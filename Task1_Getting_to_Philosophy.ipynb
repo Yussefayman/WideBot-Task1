{
 "cells": [
  {
   "cell_type": "markdown",
   "metadata": {},
   "source": [
    "# Imports and initialization"
   ]
  },
  {
   "cell_type": "code",
   "execution_count": 49,
   "metadata": {},
   "outputs": [],
   "source": [
    "from bs4 import BeautifulSoup\n",
    "import requests\n",
    "import time\n",
    "import urllib\n",
    "target_url = \"https://en.wikipedia.org/wiki/Philosophy\"\n",
    "rand_url = \"https://en.wikipedia.org/wiki/Special:Random\"\n",
    "max_visiting_pages = 20\n",
    "pages_list = [rand_url]"
   ]
  },
  {
   "cell_type": "markdown",
   "metadata": {},
   "source": [
    "# Scrape the paragraphs to get the first page link and returning it.\n"
   ]
  },
  {
   "cell_type": "code",
   "execution_count": 50,
   "metadata": {},
   "outputs": [],
   "source": [
    "def get_pagelinks(url):\n",
    "    page = requests.get(url)\n",
    "    bsoupObj = BeautifulSoup(page.content,\"html.parser\")\n",
    "    paragraph_content = bsoupObj.find(id='mw-content-text').find(class_='mw-parser-output').find_all('p',recursive=False)\n",
    "    article_link = None\n",
    "    for links in paragraph_content:\n",
    "        if links.find('a'):\n",
    "            try:\n",
    "                article_link = links.find('a',recursive=False).get('href')\n",
    "            except:\n",
    "                print(\"No article links\")\n",
    "            break\n",
    "    if not article_link:\n",
    "        print(\"There is no links in this page.\")\n",
    "    full_link = urllib.parse.urljoin('https://en.wikipedia.org/', article_link)\n",
    "    print(full_link)\n",
    "    return full_link"
   ]
  },
  {
   "cell_type": "markdown",
   "metadata": {},
   "source": [
    "# Check if last visited page is the philosophy page."
   ]
  },
  {
   "cell_type": "code",
   "execution_count": 51,
   "metadata": {},
   "outputs": [],
   "source": [
    "def check_page(last_visited,count):\n",
    "    if last_visited == target_url:\n",
    "        return True\n",
    "    "
   ]
  },
  {
   "cell_type": "markdown",
   "metadata": {},
   "source": [
    "# Main function"
   ]
  },
  {
   "cell_type": "code",
   "execution_count": 52,
   "metadata": {},
   "outputs": [
    {
     "name": "stdout",
     "output_type": "stream",
     "text": [
      "https://en.wikipedia.org/wiki/Association_football\n",
      "https://en.wikipedia.org/wiki/Team_sport\n",
      "https://en.wikipedia.org/wiki/Sport\n",
      "https://en.wikipedia.org/wiki/Competition\n",
      "https://en.wikipedia.org/wiki/Goal\n",
      "https://en.wikipedia.org/wiki/Idea\n",
      "https://en.wikipedia.org/wiki/Philosophy\n",
      "PHILOSOPHY ACHIEVED :D\n"
     ]
    }
   ],
   "source": [
    "def getting_to_philosphy():\n",
    "    count = 0\n",
    "    while count != max_visiting_pages:\n",
    "        link = get_pagelinks(pages_list[-1])\n",
    "        check_bool =check_page(link,count)\n",
    "        if check_bool:\n",
    "            print(\"PHILOSOPHY ACHIEVED :D\")\n",
    "            break\n",
    "        if link in pages_list:\n",
    "            print(\"There is a loop, PHILOSOPHY FAILED....\")\n",
    "            break\n",
    "        pages_list.append(link)\n",
    "        count+=1\n",
    "        time.sleep(1)\n",
    "getting_to_philosphy()\n",
    "\n",
    "\n",
    "        \n",
    "    "
   ]
  },
  {
   "cell_type": "code",
   "execution_count": null,
   "metadata": {},
   "outputs": [],
   "source": []
  },
  {
   "cell_type": "code",
   "execution_count": null,
   "metadata": {},
   "outputs": [],
   "source": []
  }
 ],
 "metadata": {
  "kernelspec": {
   "display_name": "Python [default]",
   "language": "python",
   "name": "python3"
  },
  "language_info": {
   "codemirror_mode": {
    "name": "ipython",
    "version": 3
   },
   "file_extension": ".py",
   "mimetype": "text/x-python",
   "name": "python",
   "nbconvert_exporter": "python",
   "pygments_lexer": "ipython3",
   "version": "3.6.4"
  }
 },
 "nbformat": 4,
 "nbformat_minor": 2
}
